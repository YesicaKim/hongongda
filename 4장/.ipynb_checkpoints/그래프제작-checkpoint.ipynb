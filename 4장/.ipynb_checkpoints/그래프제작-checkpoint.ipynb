{
 "cells": [
  {
   "cell_type": "code",
   "execution_count": 1,
   "metadata": {},
   "outputs": [],
   "source": [
    "import pandas as pd"
   ]
  },
  {
   "cell_type": "code",
   "execution_count": 2,
   "metadata": {
    "scrolled": false
   },
   "outputs": [
    {
     "data": {
      "text/html": [
       "<div>\n",
       "<style scoped>\n",
       "    .dataframe tbody tr th:only-of-type {\n",
       "        vertical-align: middle;\n",
       "    }\n",
       "\n",
       "    .dataframe tbody tr th {\n",
       "        vertical-align: top;\n",
       "    }\n",
       "\n",
       "    .dataframe thead th {\n",
       "        text-align: right;\n",
       "    }\n",
       "</style>\n",
       "<table border=\"1\" class=\"dataframe\">\n",
       "  <thead>\n",
       "    <tr style=\"text-align: right;\">\n",
       "      <th></th>\n",
       "      <th>title</th>\n",
       "      <th>contents</th>\n",
       "      <th>category</th>\n",
       "    </tr>\n",
       "  </thead>\n",
       "  <tbody>\n",
       "    <tr>\n",
       "      <th>0</th>\n",
       "      <td>내일 낮 투표소 갈 땐 가볍게 입으세요…아침에는 쌀쌀</td>\n",
       "      <td>서울·경기·강원 영서 오전 미세먼지 나쁨 제21대 국회의원 선거일이자 수요일인 15...</td>\n",
       "      <td>환경</td>\n",
       "    </tr>\n",
       "    <tr>\n",
       "      <th>1</th>\n",
       "      <td>사전투표소 설치</td>\n",
       "      <td>제21대 국회의원 선거 사전투표를 하루 앞둔 9일 오후 부산 연제구청 2층 대강당에...</td>\n",
       "      <td>지역</td>\n",
       "    </tr>\n",
       "    <tr>\n",
       "      <th>2</th>\n",
       "      <td>불출마 두 의원이 함께한 여행서 터놓은 속마음</td>\n",
       "      <td>12일 밤 11시 5분 방송되는 SBS스페셜에서는 제21대 총선 불출마 선언으로 국...</td>\n",
       "      <td>언론</td>\n",
       "    </tr>\n",
       "    <tr>\n",
       "      <th>3</th>\n",
       "      <td>장애 오빠 돌보러 온 여동생까지…50대 남매 아파트서 화재로 숨져</td>\n",
       "      <td>아파트에서 불이 나 장애가 있는 50대 남성과 돌보러 온 여동생이 함께 숨지는 사고...</td>\n",
       "      <td>사건사고</td>\n",
       "    </tr>\n",
       "    <tr>\n",
       "      <th>4</th>\n",
       "      <td>함께 술마시던 지인 흉기로 살해 50대 구속…법원 도주 우려</td>\n",
       "      <td>함께 술을 마시던 지인을 흉기로 찔러 살해해 긴급체포됐던 50대 남성이 구속됐다. ...</td>\n",
       "      <td>사건사고</td>\n",
       "    </tr>\n",
       "    <tr>\n",
       "      <th>...</th>\n",
       "      <td>...</td>\n",
       "      <td>...</td>\n",
       "      <td>...</td>\n",
       "    </tr>\n",
       "    <tr>\n",
       "      <th>3495</th>\n",
       "      <td>영남대 대학기업가센터 지원사업 성과평가 2년 연속 ‘최우수대학’</td>\n",
       "      <td>영남대가 최근 대학기업가센터 지원사업 성과평가에서 최우수대학에 선정됐다.대학기업가센...</td>\n",
       "      <td>교육</td>\n",
       "    </tr>\n",
       "    <tr>\n",
       "      <th>3496</th>\n",
       "      <td>대구·경북 파견 누적 의료인력 3561명</td>\n",
       "      <td>대구·경북 파견 누적 의료인력 3561명. 의사 1621명 간호인력 1486명 임상...</td>\n",
       "      <td>사건사고</td>\n",
       "    </tr>\n",
       "    <tr>\n",
       "      <th>3497</th>\n",
       "      <td>MBC 검언유착 녹취록 일부 제출…대검 추가로 내라</td>\n",
       "      <td>본격 진상조사 앞두고 신경전…채널A 자체조사 마치는대로 제출 채널A와 검사장 간 유...</td>\n",
       "      <td>언론</td>\n",
       "    </tr>\n",
       "    <tr>\n",
       "      <th>3498</th>\n",
       "      <td>고용허가제 외국인 노동자 체류기간 50일 일괄 연장</td>\n",
       "      <td>고용허가제 적용을 받는 외국인 노동자의 국내 취업활동기간이 50일 일괄 연장된다. ...</td>\n",
       "      <td>노동</td>\n",
       "    </tr>\n",
       "    <tr>\n",
       "      <th>3499</th>\n",
       "      <td>회사가 큰가요?</td>\n",
       "      <td>ⓒ 세상을 보는 눈</td>\n",
       "      <td>교육</td>\n",
       "    </tr>\n",
       "  </tbody>\n",
       "</table>\n",
       "<p>3500 rows × 3 columns</p>\n",
       "</div>"
      ],
      "text/plain": [
       "                                     title  \\\n",
       "0            내일 낮 투표소 갈 땐 가볍게 입으세요…아침에는 쌀쌀   \n",
       "1                                 사전투표소 설치   \n",
       "2                불출마 두 의원이 함께한 여행서 터놓은 속마음   \n",
       "3     장애 오빠 돌보러 온 여동생까지…50대 남매 아파트서 화재로 숨져   \n",
       "4        함께 술마시던 지인 흉기로 살해 50대 구속…법원 도주 우려   \n",
       "...                                    ...   \n",
       "3495   영남대 대학기업가센터 지원사업 성과평가 2년 연속 ‘최우수대학’   \n",
       "3496                대구·경북 파견 누적 의료인력 3561명   \n",
       "3497          MBC 검언유착 녹취록 일부 제출…대검 추가로 내라   \n",
       "3498          고용허가제 외국인 노동자 체류기간 50일 일괄 연장   \n",
       "3499                              회사가 큰가요?   \n",
       "\n",
       "                                               contents category  \n",
       "0     서울·경기·강원 영서 오전 미세먼지 나쁨 제21대 국회의원 선거일이자 수요일인 15...       환경  \n",
       "1     제21대 국회의원 선거 사전투표를 하루 앞둔 9일 오후 부산 연제구청 2층 대강당에...       지역  \n",
       "2     12일 밤 11시 5분 방송되는 SBS스페셜에서는 제21대 총선 불출마 선언으로 국...       언론  \n",
       "3     아파트에서 불이 나 장애가 있는 50대 남성과 돌보러 온 여동생이 함께 숨지는 사고...     사건사고  \n",
       "4     함께 술을 마시던 지인을 흉기로 찔러 살해해 긴급체포됐던 50대 남성이 구속됐다. ...     사건사고  \n",
       "...                                                 ...      ...  \n",
       "3495  영남대가 최근 대학기업가센터 지원사업 성과평가에서 최우수대학에 선정됐다.대학기업가센...       교육  \n",
       "3496  대구·경북 파견 누적 의료인력 3561명. 의사 1621명 간호인력 1486명 임상...     사건사고  \n",
       "3497  본격 진상조사 앞두고 신경전…채널A 자체조사 마치는대로 제출 채널A와 검사장 간 유...       언론  \n",
       "3498  고용허가제 적용을 받는 외국인 노동자의 국내 취업활동기간이 50일 일괄 연장된다. ...       노동  \n",
       "3499                                        ⓒ 세상을 보는 눈        교육  \n",
       "\n",
       "[3500 rows x 3 columns]"
      ]
     },
     "execution_count": 2,
     "metadata": {},
     "output_type": "execute_result"
    }
   ],
   "source": [
    "df = pd.read_csv(\"naver_news_dataset.csv\")\n",
    "df"
   ]
  },
  {
   "cell_type": "code",
   "execution_count": 3,
   "metadata": {},
   "outputs": [
    {
     "data": {
      "text/plain": [
       "{'교육', '노동', '사건사고', '식품/의료', '언론', '지역', '환경'}"
      ]
     },
     "execution_count": 3,
     "metadata": {},
     "output_type": "execute_result"
    }
   ],
   "source": [
    "category = set(df[\"category\"]) #중복 제거\n",
    "category #네이버 뉴스에 어떤 카테고리들이 있는지 보기"
   ]
  },
  {
   "cell_type": "code",
   "execution_count": 4,
   "metadata": {},
   "outputs": [
    {
     "name": "stdout",
     "output_type": "stream",
     "text": [
      "식품/의료 500\n",
      "지역 500\n",
      "노동 500\n",
      "언론 500\n",
      "환경 500\n",
      "교육 500\n",
      "사건사고 500\n"
     ]
    }
   ],
   "source": [
    "# 각각의 네이버 뉴스를 500개씩 제작\n",
    "for c in category:\n",
    "    print(c, len(df[df[\"category\"] == c]))"
   ]
  },
  {
   "cell_type": "code",
   "execution_count": 5,
   "metadata": {},
   "outputs": [
    {
     "data": {
      "text/plain": [
       "[500, 500, 500, 500, 500, 500, 500]"
      ]
     },
     "execution_count": 5,
     "metadata": {},
     "output_type": "execute_result"
    }
   ],
   "source": [
    "category_len = [] # 각 카테고리별로 존재하는 뉴스의 개수를 찾는 코드\n",
    "for c in category:\n",
    "    category_len.append(len(df[df[\"category\"] == c]))\n",
    "category_len"
   ]
  },
  {
   "cell_type": "code",
   "execution_count": 6,
   "metadata": {},
   "outputs": [
    {
     "name": "stdout",
     "output_type": "stream",
     "text": [
      "Requirement already satisfied: matplotlib in c:\\users\\hwnau\\.conda\\envs\\cuda\\lib\\site-packages (3.1.2)\n",
      "Requirement already satisfied: python-dateutil>=2.1 in c:\\users\\hwnau\\.conda\\envs\\cuda\\lib\\site-packages (from matplotlib) (2.8.1)\n",
      "Requirement already satisfied: numpy>=1.11 in c:\\users\\hwnau\\.conda\\envs\\cuda\\lib\\site-packages (from matplotlib) (1.16.1)\n",
      "Requirement already satisfied: pyparsing!=2.0.4,!=2.1.2,!=2.1.6,>=2.0.1 in c:\\users\\hwnau\\.conda\\envs\\cuda\\lib\\site-packages (from matplotlib) (2.4.5)\n",
      "Requirement already satisfied: kiwisolver>=1.0.1 in c:\\users\\hwnau\\.conda\\envs\\cuda\\lib\\site-packages (from matplotlib) (1.1.0)\n",
      "Requirement already satisfied: cycler>=0.10 in c:\\users\\hwnau\\.conda\\envs\\cuda\\lib\\site-packages (from matplotlib) (0.10.0)\n",
      "Requirement already satisfied: six>=1.5 in c:\\users\\hwnau\\.conda\\envs\\cuda\\lib\\site-packages (from python-dateutil>=2.1->matplotlib) (1.12.0)\n",
      "Requirement already satisfied: setuptools in c:\\users\\hwnau\\.conda\\envs\\cuda\\lib\\site-packages (from kiwisolver>=1.0.1->matplotlib) (42.0.1.post20191125)\n"
     ]
    }
   ],
   "source": [
    "!pip install matplotlib"
   ]
  },
  {
   "cell_type": "code",
   "execution_count": 7,
   "metadata": {},
   "outputs": [],
   "source": [
    "import matplotlib.pylab as plt\n",
    "from matplotlib import font_manager, rc\n",
    "#위에는 그래프를 그리는데 필요한 라이브러리들\n",
    "\n",
    "import platform\n",
    "#os를 알기위한 것\n",
    "\n",
    "if platform.system() == \"Linux\":\n",
    "    #/usr/share/fonts/truetype/unfonts-core/UnDinaru.ttf\n",
    "    font_path = \"/usr/share/fonts/truetype/nanum/NanumBarunGothic.ttf\"\n",
    "elif platform.system() == \"Windows\":\n",
    "    font_path = 'C:/Windows/Fonts/gulim.ttc' #원하는 폰트가 있으면 경로를 바꿔도 됩니다.\n",
    "elif platform.system() == \"Darwin\":\n",
    "    #AppleGothic\n",
    "    font_path = 'UnDinaru.ttf'\n",
    "else:\n",
    "    print(\"Unknwon OS\") # 리눅스, 윈도우, 맥 전부 아닐 경우\n",
    "    \n",
    "#os별로 폰트를 가지고 오는 것\n",
    "    \n",
    "font_name = font_manager.FontProperties(fname=font_path).get_name() # 위에서 지정한 한글 폰트를 가져오는 코드\n",
    "rc('font', family=font_name) #한글이 깨지지 않게 한글 폰트를 적용하는것\n",
    "\n",
    "%matplotlib inline\n",
    "#jupyter notebook에서 사용할 수 있도록 설정"
   ]
  },
  {
   "cell_type": "code",
   "execution_count": 8,
   "metadata": {},
   "outputs": [
    {
     "data": {
      "image/png": "[encoded data removed]",
      "text/plain": [
       "<Figure size 432x288 with 1 Axes>"
      ]
     },
     "metadata": {
      "needs_background": "light"
     },
     "output_type": "display_data"
    }
   ],
   "source": [
    "# 각각의 카테고리들과 카테고리별 뉴스 숫자\n",
    "plt.plot(list(category), category_len) #그래프를 만들어주는 코드\n",
    "\n",
    "plt.show() #그래프를 보여주는 코드"
   ]
  },
  {
   "cell_type": "code",
   "execution_count": 9,
   "metadata": {},
   "outputs": [
    {
     "data": {
      "image/png": "[encoded data removed]",
      "text/plain": [
       "<Figure size 432x288 with 1 Axes>"
      ]
     },
     "metadata": {
      "needs_background": "light"
     },
     "output_type": "display_data"
    }
   ],
   "source": [
    "plt.bar(list(category), category_len) #막대 그래프 형식으로 나타내기\n",
    "plt.show()"
   ]
  },
  {
   "cell_type": "code",
   "execution_count": 10,
   "metadata": {},
   "outputs": [
    {
     "data": {
      "text/html": [
       "<div>\n",
       "<style scoped>\n",
       "    .dataframe tbody tr th:only-of-type {\n",
       "        vertical-align: middle;\n",
       "    }\n",
       "\n",
       "    .dataframe tbody tr th {\n",
       "        vertical-align: top;\n",
       "    }\n",
       "\n",
       "    .dataframe thead th {\n",
       "        text-align: right;\n",
       "    }\n",
       "</style>\n",
       "<table border=\"1\" class=\"dataframe\">\n",
       "  <thead>\n",
       "    <tr style=\"text-align: right;\">\n",
       "      <th></th>\n",
       "      <th>title</th>\n",
       "      <th>contents</th>\n",
       "      <th>category</th>\n",
       "    </tr>\n",
       "  </thead>\n",
       "  <tbody>\n",
       "    <tr>\n",
       "      <th>0</th>\n",
       "      <td>내일 낮 투표소 갈 땐 가볍게 입으세요…아침에는 쌀쌀</td>\n",
       "      <td>서울·경기·강원 영서 오전 미세먼지 나쁨 제21대 국회의원 선거일이자 수요일인 15...</td>\n",
       "      <td>환경</td>\n",
       "    </tr>\n",
       "    <tr>\n",
       "      <th>1</th>\n",
       "      <td>사전투표소 설치</td>\n",
       "      <td>제21대 국회의원 선거 사전투표를 하루 앞둔 9일 오후 부산 연제구청 2층 대강당에...</td>\n",
       "      <td>지역</td>\n",
       "    </tr>\n",
       "    <tr>\n",
       "      <th>2</th>\n",
       "      <td>불출마 두 의원이 함께한 여행서 터놓은 속마음</td>\n",
       "      <td>12일 밤 11시 5분 방송되는 SBS스페셜에서는 제21대 총선 불출마 선언으로 국...</td>\n",
       "      <td>언론</td>\n",
       "    </tr>\n",
       "    <tr>\n",
       "      <th>3</th>\n",
       "      <td>장애 오빠 돌보러 온 여동생까지…50대 남매 아파트서 화재로 숨져</td>\n",
       "      <td>아파트에서 불이 나 장애가 있는 50대 남성과 돌보러 온 여동생이 함께 숨지는 사고...</td>\n",
       "      <td>사건사고</td>\n",
       "    </tr>\n",
       "    <tr>\n",
       "      <th>4</th>\n",
       "      <td>함께 술마시던 지인 흉기로 살해 50대 구속…법원 도주 우려</td>\n",
       "      <td>함께 술을 마시던 지인을 흉기로 찔러 살해해 긴급체포됐던 50대 남성이 구속됐다. ...</td>\n",
       "      <td>사건사고</td>\n",
       "    </tr>\n",
       "    <tr>\n",
       "      <th>...</th>\n",
       "      <td>...</td>\n",
       "      <td>...</td>\n",
       "      <td>...</td>\n",
       "    </tr>\n",
       "    <tr>\n",
       "      <th>3495</th>\n",
       "      <td>영남대 대학기업가센터 지원사업 성과평가 2년 연속 ‘최우수대학’</td>\n",
       "      <td>영남대가 최근 대학기업가센터 지원사업 성과평가에서 최우수대학에 선정됐다.대학기업가센...</td>\n",
       "      <td>교육</td>\n",
       "    </tr>\n",
       "    <tr>\n",
       "      <th>3496</th>\n",
       "      <td>대구·경북 파견 누적 의료인력 3561명</td>\n",
       "      <td>대구·경북 파견 누적 의료인력 3561명. 의사 1621명 간호인력 1486명 임상...</td>\n",
       "      <td>사건사고</td>\n",
       "    </tr>\n",
       "    <tr>\n",
       "      <th>3497</th>\n",
       "      <td>MBC 검언유착 녹취록 일부 제출…대검 추가로 내라</td>\n",
       "      <td>본격 진상조사 앞두고 신경전…채널A 자체조사 마치는대로 제출 채널A와 검사장 간 유...</td>\n",
       "      <td>언론</td>\n",
       "    </tr>\n",
       "    <tr>\n",
       "      <th>3498</th>\n",
       "      <td>고용허가제 외국인 노동자 체류기간 50일 일괄 연장</td>\n",
       "      <td>고용허가제 적용을 받는 외국인 노동자의 국내 취업활동기간이 50일 일괄 연장된다. ...</td>\n",
       "      <td>노동</td>\n",
       "    </tr>\n",
       "    <tr>\n",
       "      <th>3499</th>\n",
       "      <td>회사가 큰가요?</td>\n",
       "      <td>ⓒ 세상을 보는 눈</td>\n",
       "      <td>교육</td>\n",
       "    </tr>\n",
       "  </tbody>\n",
       "</table>\n",
       "<p>3500 rows × 3 columns</p>\n",
       "</div>"
      ],
      "text/plain": [
       "                                     title  \\\n",
       "0            내일 낮 투표소 갈 땐 가볍게 입으세요…아침에는 쌀쌀   \n",
       "1                                 사전투표소 설치   \n",
       "2                불출마 두 의원이 함께한 여행서 터놓은 속마음   \n",
       "3     장애 오빠 돌보러 온 여동생까지…50대 남매 아파트서 화재로 숨져   \n",
       "4        함께 술마시던 지인 흉기로 살해 50대 구속…법원 도주 우려   \n",
       "...                                    ...   \n",
       "3495   영남대 대학기업가센터 지원사업 성과평가 2년 연속 ‘최우수대학’   \n",
       "3496                대구·경북 파견 누적 의료인력 3561명   \n",
       "3497          MBC 검언유착 녹취록 일부 제출…대검 추가로 내라   \n",
       "3498          고용허가제 외국인 노동자 체류기간 50일 일괄 연장   \n",
       "3499                              회사가 큰가요?   \n",
       "\n",
       "                                               contents category  \n",
       "0     서울·경기·강원 영서 오전 미세먼지 나쁨 제21대 국회의원 선거일이자 수요일인 15...       환경  \n",
       "1     제21대 국회의원 선거 사전투표를 하루 앞둔 9일 오후 부산 연제구청 2층 대강당에...       지역  \n",
       "2     12일 밤 11시 5분 방송되는 SBS스페셜에서는 제21대 총선 불출마 선언으로 국...       언론  \n",
       "3     아파트에서 불이 나 장애가 있는 50대 남성과 돌보러 온 여동생이 함께 숨지는 사고...     사건사고  \n",
       "4     함께 술을 마시던 지인을 흉기로 찔러 살해해 긴급체포됐던 50대 남성이 구속됐다. ...     사건사고  \n",
       "...                                                 ...      ...  \n",
       "3495  영남대가 최근 대학기업가센터 지원사업 성과평가에서 최우수대학에 선정됐다.대학기업가센...       교육  \n",
       "3496  대구·경북 파견 누적 의료인력 3561명. 의사 1621명 간호인력 1486명 임상...     사건사고  \n",
       "3497  본격 진상조사 앞두고 신경전…채널A 자체조사 마치는대로 제출 채널A와 검사장 간 유...       언론  \n",
       "3498  고용허가제 적용을 받는 외국인 노동자의 국내 취업활동기간이 50일 일괄 연장된다. ...       노동  \n",
       "3499                                        ⓒ 세상을 보는 눈        교육  \n",
       "\n",
       "[3500 rows x 3 columns]"
      ]
     },
     "execution_count": 10,
     "metadata": {},
     "output_type": "execute_result"
    }
   ],
   "source": [
    "df"
   ]
  },
  {
   "cell_type": "code",
   "execution_count": 11,
   "metadata": {},
   "outputs": [
    {
     "data": {
      "text/html": [
       "<div>\n",
       "<style scoped>\n",
       "    .dataframe tbody tr th:only-of-type {\n",
       "        vertical-align: middle;\n",
       "    }\n",
       "\n",
       "    .dataframe tbody tr th {\n",
       "        vertical-align: top;\n",
       "    }\n",
       "\n",
       "    .dataframe thead th {\n",
       "        text-align: right;\n",
       "    }\n",
       "</style>\n",
       "<table border=\"1\" class=\"dataframe\">\n",
       "  <thead>\n",
       "    <tr style=\"text-align: right;\">\n",
       "      <th></th>\n",
       "      <th>title</th>\n",
       "      <th>contents</th>\n",
       "      <th>category</th>\n",
       "    </tr>\n",
       "  </thead>\n",
       "  <tbody>\n",
       "    <tr>\n",
       "      <th>0</th>\n",
       "      <td>내일 낮 투표소 갈 땐 가볍게 입으세요…아침에는 쌀쌀</td>\n",
       "      <td>서울·경기·강원 영서 오전 미세먼지 나쁨 제21대 국회의원 선거일이자 수요일인 15...</td>\n",
       "      <td>환경</td>\n",
       "    </tr>\n",
       "    <tr>\n",
       "      <th>7</th>\n",
       "      <td>코로나 확산 막자 충주시 위생업소 5200곳에 출입대장 배부</td>\n",
       "      <td>충북 충주시가 신종 코로나바이러스 감염증 확산 방지를 위해 위생업소에 출입대장을 배...</td>\n",
       "      <td>환경</td>\n",
       "    </tr>\n",
       "    <tr>\n",
       "      <th>9</th>\n",
       "      <td>하이원리조트 하늘길에서 노란목도리담비 포착</td>\n",
       "      <td>하이원리조트 하늘길에서 멸종 위기 동물인 노란목도리담비가 포착됐다고 14일 하이원리...</td>\n",
       "      <td>환경</td>\n",
       "    </tr>\n",
       "    <tr>\n",
       "      <th>24</th>\n",
       "      <td>중국 이어 국내의 개ㆍ고양이 식용 금지 촉구</td>\n",
       "      <td>한국동물보호연합이 6일 오후 서울시청 앞에서 개최한 중국 선전시의 개 고양이 식용금...</td>\n",
       "      <td>환경</td>\n",
       "    </tr>\n",
       "    <tr>\n",
       "      <th>43</th>\n",
       "      <td>21대 총선날 투표하기 좋은 날씨…전국 맑고 따뜻</td>\n",
       "      <td>제21대 국회의원 총선거 투표 날인 15일 전국이 대체로 맑고 따뜻할 것으로 예보됐...</td>\n",
       "      <td>환경</td>\n",
       "    </tr>\n",
       "    <tr>\n",
       "      <th>...</th>\n",
       "      <td>...</td>\n",
       "      <td>...</td>\n",
       "      <td>...</td>\n",
       "    </tr>\n",
       "    <tr>\n",
       "      <th>3474</th>\n",
       "      <td>전국 대체로 맑고 큰 일교차…미세먼지 농도 보통</td>\n",
       "      <td>수요일인 8일 전국이 대체로 맑은 가운데 강원 동해안에는 오전까지 산발적인 빗방울이...</td>\n",
       "      <td>환경</td>\n",
       "    </tr>\n",
       "    <tr>\n",
       "      <th>3480</th>\n",
       "      <td>강화 석모도·동검도에 수돗물 공급 개시</td>\n",
       "      <td>인천시 상수도사업본부는 3일 강화군 삼산면 석모도와 길상면 동검도에 수돗물 공급을 ...</td>\n",
       "      <td>환경</td>\n",
       "    </tr>\n",
       "    <tr>\n",
       "      <th>3485</th>\n",
       "      <td>통영 해양보호구역서 멸종위기종 상괭이 사체 발견</td>\n",
       "      <td>해양보호구역인 경남 통영시 용남면 화삼리 장군바위 인근에서 멸종위기종인 상괭이가 낚...</td>\n",
       "      <td>환경</td>\n",
       "    </tr>\n",
       "    <tr>\n",
       "      <th>3488</th>\n",
       "      <td>경기 서해안 해수서 첫 비브리오패혈증균 검출…작년보다 3주 빨라</td>\n",
       "      <td>경기도가 서해안 바닷물에서 올해 첫 비브리오패혈증균이 검출됐다며 주의를 당부했다.1...</td>\n",
       "      <td>환경</td>\n",
       "    </tr>\n",
       "    <tr>\n",
       "      <th>3490</th>\n",
       "      <td>뉴턴의 사과나무·멘델의 포도나무 국립세종수목원서 본다</td>\n",
       "      <td>뉴턴의 사과나무와 멘델의 포도나무가 국립세종수목원에 식재된다.산림청은 과학적 발견을...</td>\n",
       "      <td>환경</td>\n",
       "    </tr>\n",
       "  </tbody>\n",
       "</table>\n",
       "<p>500 rows × 3 columns</p>\n",
       "</div>"
      ],
      "text/plain": [
       "                                    title  \\\n",
       "0           내일 낮 투표소 갈 땐 가볍게 입으세요…아침에는 쌀쌀   \n",
       "7       코로나 확산 막자 충주시 위생업소 5200곳에 출입대장 배부   \n",
       "9                 하이원리조트 하늘길에서 노란목도리담비 포착   \n",
       "24               중국 이어 국내의 개ㆍ고양이 식용 금지 촉구   \n",
       "43            21대 총선날 투표하기 좋은 날씨…전국 맑고 따뜻   \n",
       "...                                   ...   \n",
       "3474           전국 대체로 맑고 큰 일교차…미세먼지 농도 보통   \n",
       "3480                강화 석모도·동검도에 수돗물 공급 개시   \n",
       "3485           통영 해양보호구역서 멸종위기종 상괭이 사체 발견   \n",
       "3488  경기 서해안 해수서 첫 비브리오패혈증균 검출…작년보다 3주 빨라   \n",
       "3490        뉴턴의 사과나무·멘델의 포도나무 국립세종수목원서 본다   \n",
       "\n",
       "                                               contents category  \n",
       "0     서울·경기·강원 영서 오전 미세먼지 나쁨 제21대 국회의원 선거일이자 수요일인 15...       환경  \n",
       "7     충북 충주시가 신종 코로나바이러스 감염증 확산 방지를 위해 위생업소에 출입대장을 배...       환경  \n",
       "9     하이원리조트 하늘길에서 멸종 위기 동물인 노란목도리담비가 포착됐다고 14일 하이원리...       환경  \n",
       "24    한국동물보호연합이 6일 오후 서울시청 앞에서 개최한 중국 선전시의 개 고양이 식용금...       환경  \n",
       "43    제21대 국회의원 총선거 투표 날인 15일 전국이 대체로 맑고 따뜻할 것으로 예보됐...       환경  \n",
       "...                                                 ...      ...  \n",
       "3474  수요일인 8일 전국이 대체로 맑은 가운데 강원 동해안에는 오전까지 산발적인 빗방울이...       환경  \n",
       "3480  인천시 상수도사업본부는 3일 강화군 삼산면 석모도와 길상면 동검도에 수돗물 공급을 ...       환경  \n",
       "3485  해양보호구역인 경남 통영시 용남면 화삼리 장군바위 인근에서 멸종위기종인 상괭이가 낚...       환경  \n",
       "3488  경기도가 서해안 바닷물에서 올해 첫 비브리오패혈증균이 검출됐다며 주의를 당부했다.1...       환경  \n",
       "3490  뉴턴의 사과나무와 멘델의 포도나무가 국립세종수목원에 식재된다.산림청은 과학적 발견을...       환경  \n",
       "\n",
       "[500 rows x 3 columns]"
      ]
     },
     "execution_count": 11,
     "metadata": {},
     "output_type": "execute_result"
    }
   ],
   "source": [
    "df_test = df[df[\"category\"] == \"환경\"]\n",
    "# 환경 카테고리의 뉴스들만 가져오는 코드\n",
    "df_test"
   ]
  },
  {
   "cell_type": "code",
   "execution_count": 12,
   "metadata": {},
   "outputs": [
    {
     "name": "stdout",
     "output_type": "stream",
     "text": [
      "날씨 26\n",
      "중국 28\n",
      "일교차 20\n",
      "미세먼지 120\n",
      "코로나 138\n",
      "쌀쌀 17\n"
     ]
    }
   ],
   "source": [
    "texts = [\"날씨\", \"중국\", \"일교차\", \"미세먼지\", \"코로나\", \"쌀쌀\"]\n",
    "#환경 뉴스에서 우리가 등장 횟수를 알고 싶은 키워드를 지정\n",
    "\n",
    "texts_lens = []\n",
    "#준비 하는 것들\n",
    "\n",
    "for text in texts:\n",
    "    # 우리가 준비한 키워드들로\n",
    "    def find_str(contents):\n",
    "        # 우리가 준비한 키워드들(texts)가 뉴스에 존재하면 return 하기\n",
    "        if contents.find(text) != -1:\n",
    "            return True\n",
    "        else:\n",
    "            return False\n",
    "\n",
    "    print(text, len(df_test[df_test[\"contents\"].map(find_str)]))\n",
    "    # 키워드 내용과 해당 키워드가 있는 뉴스들의 개수\n",
    "    texts_lens.append(len(df_test[df_test[\"contents\"].map(find_str)]))"
   ]
  },
  {
   "cell_type": "code",
   "execution_count": 13,
   "metadata": {},
   "outputs": [
    {
     "data": {
      "image/png": "[encoded data removed]",
      "text/plain": [
       "<Figure size 432x288 with 1 Axes>"
      ]
     },
     "metadata": {
      "needs_background": "light"
     },
     "output_type": "display_data"
    }
   ],
   "source": [
    "plt.bar(texts, texts_lens)\n",
    "# x축에 나올 내용, y축에 나올 내용  1대1로 메핑\n",
    "\n",
    "plt.ylabel('등장한 뉴스의 수') #y축에서 보이는 것\n",
    "plt.title('환경 등장 키워드') #제목\n",
    "\n",
    "plt.show() # 그래프 보이게"
   ]
  },
  {
   "cell_type": "code",
   "execution_count": 14,
   "metadata": {},
   "outputs": [
    {
     "name": "stdout",
     "output_type": "stream",
     "text": [
      "Requirement already satisfied: numpy in c:\\users\\hwnau\\.conda\\envs\\cuda\\lib\\site-packages (1.16.1)\n"
     ]
    }
   ],
   "source": [
    "!pip install numpy"
   ]
  },
  {
   "cell_type": "code",
   "execution_count": 14,
   "metadata": {},
   "outputs": [],
   "source": [
    "import numpy as np"
   ]
  },
  {
   "cell_type": "code",
   "execution_count": 15,
   "metadata": {},
   "outputs": [
    {
     "data": {
      "image/png": "[encoded data removed]",
      "text/plain": [
       "<Figure size 432x288 with 1 Axes>"
      ]
     },
     "metadata": {
      "needs_background": "light"
     },
     "output_type": "display_data"
    }
   ],
   "source": [
    "# 다른 카테고리의 뉴스들에서 같은 키워드들이 얼마나 다르게 등장하는지 확인하는 코드 \n",
    "\n",
    "df_test = df[df[\"category\"] == \"노동\"]\n",
    "df_test2 = df[df[\"category\"] == \"사건사고\"]\n",
    "# 노동하고 사건사고의 뉴스들만 가져오기\n",
    "\n",
    "texts = [\"코로나\", \"위기\", \"구속\", \"확진\"]\n",
    "# 등장 회수를 볼 키워드들\n",
    "\n",
    "texts_lens = []\n",
    "texts_lens2 = []\n",
    "\n",
    "for text in texts:\n",
    "    def find_str(contents):\n",
    "        # 키워드의 존재여부\n",
    "        if contents.find(text) != -1:\n",
    "            return True\n",
    "        else:\n",
    "            return False\n",
    "\n",
    "    texts_lens.append(len(df_test[df_test[\"contents\"].map(find_str)]))\n",
    "    texts_lens2.append(len(df_test2[df_test2[\"contents\"].map(find_str)]))\n",
    "    # 키워드의 존재 횟수\n",
    "    \n",
    "N = len(texts)\n",
    "# texts의 길 4\n",
    "X = np.arange(N) \n",
    "# 0~3 까지의 값\n",
    "width = 0.35\n",
    "# 그래프의 크기\n",
    "\n",
    "plt.bar(X, texts_lens, width, label='노동')\n",
    "plt.bar(X + width, texts_lens2, width, label='사건사고')\n",
    "# 어디에 놓을 것인가, width만큼 띄어주기\n",
    "\n",
    "plt.ylabel('등장수') #y축 제목\n",
    "plt.title('환경, 사건사고 비교') #그래프 제목 \n",
    "\n",
    "plt.xticks(X + width / 2, texts) # 카테고리별로 나눠서 등장시키기 위해서\n",
    "plt.legend(loc='best') # 범례 쓰기\n",
    "plt.show()"
   ]
  },
  {
   "cell_type": "code",
   "execution_count": 16,
   "metadata": {},
   "outputs": [
    {
     "data": {
      "text/plain": [
       "(array([0, 1, 2, 3]), array([0.35, 1.35, 2.35, 3.35]))"
      ]
     },
     "execution_count": 16,
     "metadata": {},
     "output_type": "execute_result"
    }
   ],
   "source": [
    "X, X + 0.35"
   ]
  },
  {
   "cell_type": "code",
   "execution_count": 17,
   "metadata": {},
   "outputs": [
    {
     "data": {
      "text/plain": [
       "{'교육', '노동', '사건사고', '식품/의료', '언론', '지역', '환경'}"
      ]
     },
     "execution_count": 17,
     "metadata": {},
     "output_type": "execute_result"
    }
   ],
   "source": [
    "category"
   ]
  },
  {
   "cell_type": "code",
   "execution_count": 18,
   "metadata": {},
   "outputs": [
    {
     "data": {
      "image/png": "[encoded data removed]",
      "text/plain": [
       "<Figure size 432x288 with 1 Axes>"
      ]
     },
     "metadata": {
      "needs_background": "light"
     },
     "output_type": "display_data"
    }
   ],
   "source": [
    "df_test = df[df[\"category\"] == \"식품/의료\"]\n",
    "df_test2 = df[df[\"category\"] == \"사건사고\"]\n",
    "# 노동하고 사건사고의 뉴스들만 가져오기\n",
    "\n",
    "texts = [\"코로나\", \"안전\", \"문제\", \"대한\", \"언론\", \"정부\", \"위해\", \"진행\", \"서울\", \"사업\"]\n",
    "# 등장 회수를 볼 키워드들\n",
    "texts_lens = []\n",
    "texts_lens2 = []\n",
    "\n",
    "for text in texts:\n",
    "    def find_str(contents):\n",
    "        # 키워드의 존재여부\n",
    "        if contents.find(text) != -1:\n",
    "            return True\n",
    "        else:\n",
    "            return False\n",
    "\n",
    "    texts_lens.append(len(df_test[df_test[\"contents\"].map(find_str)]))\n",
    "    texts_lens2.append(len(df_test2[df_test2[\"contents\"].map(find_str)]))\n",
    "    # 키워드의 존재 횟수\n",
    "    \n",
    "N = len(texts)\n",
    "# texts의 길 4\n",
    "X = np.arange(N) \n",
    "# 0~3 까지의 값\n",
    "width = 0.4\n",
    "# 크기\n",
    "\n",
    "plt.bar(X, texts_lens, width, label='식품/의료')\n",
    "plt.bar(X + width, texts_lens2, width, label='사건사고')\n",
    "# 어디에 놓을 것인가, width만큼 띄어주기\n",
    "\n",
    "plt.ylabel('등장수')\n",
    "plt.title('환경, 사건사고 비교')\n",
    "\n",
    "plt.xticks(X + width / 2, texts)\n",
    "plt.legend(loc='best')\n",
    "plt.show()"
   ]
  },
  {
   "cell_type": "code",
   "execution_count": 22,
   "metadata": {},
   "outputs": [
    {
     "data": {
      "image/png": "[encoded data removed]",
      "text/plain": [
       "<Figure size 1440x432 with 1 Axes>"
      ]
     },
     "metadata": {
      "needs_background": "light"
     },
     "output_type": "display_data"
    }
   ],
   "source": [
    "plt.subplots(1, figsize = (20,6))\n",
    "\n",
    "plt.bar(X, texts_lens, width, label='식품/의료', color='pink')\n",
    "plt.bar(X + width, texts_lens2, width, label='사건사고', color='gold')\n",
    "# 어디에 놓을 것인가, width만큼 띄어주기\n",
    "\n",
    "plt.ylabel('등장수')\n",
    "plt.title('환경, 사건사고 비교')\n",
    "\n",
    "plt.grid()\n",
    "\n",
    "plt.xticks(X + width / 2, texts)\n",
    "plt.legend(loc='best')\n",
    "plt.show()"
   ]
  },
  {
   "cell_type": "markdown",
   "metadata": {},
   "source": [
    "https://codetorial.net/matplotlib/set_color.html"
   ]
  },
  {
   "cell_type": "code",
   "execution_count": null,
   "metadata": {},
   "outputs": [],
   "source": []
  },
  {
   "cell_type": "markdown",
   "metadata": {},
   "source": [
    "## 다음 내용"
   ]
  },
  {
   "cell_type": "code",
   "execution_count": 23,
   "metadata": {},
   "outputs": [
    {
     "name": "stderr",
     "output_type": "stream",
     "text": [
      "C:\\Users\\hwnau\\.conda\\envs\\cuda\\lib\\site-packages\\konlpy\\tag\\_okt.py:16: UserWarning: \"Twitter\" has changed to \"Okt\" since KoNLPy v0.4.5.\n",
      "  warn('\"Twitter\" has changed to \"Okt\" since KoNLPy v0.4.5.')\n"
     ]
    }
   ],
   "source": [
    "import nltk\n",
    "from konlpy.tag import Twitter; t = Twitter()"
   ]
  },
  {
   "cell_type": "code",
   "execution_count": 24,
   "metadata": {},
   "outputs": [],
   "source": [
    "def test(category, top_n):\n",
    "    if category == \"All\":\n",
    "        test_df = df\n",
    "    else:\n",
    "        test_df = df[df[\"category\"]==category]\n",
    "    text = list(test_df[\"contents\"]) # 우리가 지정한 카테고리만 나오게한 청원 내용 전체를 list로 변경\n",
    "    text = ' '.join(text) # list로 바뀐 모든 청원 내용을 1개의 문자열로 만들기\n",
    "    keywords = t.nouns(text) # 모든 청원 내용에서 명사를 추출하는 코드\n",
    "    keywords\n",
    "\n",
    "    # 필요없는 것들 제거하는 코드 del_keywords = 제거할 형태소를 넣는 리스트\n",
    "    del_keywords = ['각력', '직','제','저', '이','그','때','및','것이','합니다.','\\\\n',':','','거','수','그' ,\"합\",\"이\",\"있는\",\"있습니다.\",\"것\",\"및\",\"하지만\",\"때문에\"]\n",
    "\n",
    "    keywords = [keyword for keyword in keywords if keyword not in del_keywords] \n",
    "\n",
    "    keywords = nltk.Text(keywords) # 자연어 처리를 위해서 정의\n",
    "    keywords = keywords.vocab().most_common(top_n) # 각각의 명사가 얼마나 등장했는지 체크, 상위 500개만 남기고 제거\n",
    "    keywords = dict(keywords) # 딕셔너리 형태로 바꾸는 코드\n",
    "\n",
    "    return keywords"
   ]
  },
  {
   "cell_type": "code",
   "execution_count": 25,
   "metadata": {
    "scrolled": true
   },
   "outputs": [
    {
     "data": {
      "text/plain": [
       "{'등': 6145,\n",
       " '코로나': 3506,\n",
       " '명': 3111,\n",
       " '말': 2090,\n",
       " '위해': 1772,\n",
       " '전': 1674,\n",
       " '지역': 1672,\n",
       " '중': 1670,\n",
       " '수업': 1667,\n",
       " '지원': 1628,\n",
       " '씨': 1627,\n",
       " '온라인': 1579,\n",
       " '고': 1560,\n",
       " '후보': 1524,\n",
       " '방송': 1502,\n",
       " '지난': 1459,\n",
       " '선거': 1352,\n",
       " '대한': 1340,\n",
       " '언론': 1329,\n",
       " '고용': 1286,\n",
       " '정부': 1265,\n",
       " '날': 1264,\n",
       " '대해': 1242,\n",
       " '관련': 1239,\n",
       " '학생': 1211,\n",
       " '도': 1165,\n",
       " '사업': 1158,\n",
       " '서울': 1157,\n",
       " '위': 1155,\n",
       " '진행': 1149}"
      ]
     },
     "execution_count": 25,
     "metadata": {},
     "output_type": "execute_result"
    }
   ],
   "source": [
    "all_keyword = test(\"All\", 30)\n",
    "all_keyword"
   ]
  },
  {
   "cell_type": "code",
   "execution_count": 26,
   "metadata": {},
   "outputs": [],
   "source": [
    "categorys_dict = []\n",
    "categorys = list(set(df[\"category\"]))\n",
    "for cateagory in categorys:\n",
    "    categorys_dict.append(test(\"All\", 200))"
   ]
  },
  {
   "cell_type": "code",
   "execution_count": 28,
   "metadata": {},
   "outputs": [
    {
     "data": {
      "text/plain": [
       "['식품/의료', '지역', '노동', '언론', '환경', '교육', '사건사고']"
      ]
     },
     "execution_count": 28,
     "metadata": {},
     "output_type": "execute_result"
    }
   ],
   "source": [
    "categorys = list(set(df[\"category\"]))\n",
    "categorys"
   ]
  },
  {
   "cell_type": "code",
   "execution_count": 29,
   "metadata": {},
   "outputs": [],
   "source": [
    "keywords = []\n",
    "for category in categorys:\n",
    "    keywords.append(test(category, 2000))"
   ]
  },
  {
   "cell_type": "code",
   "execution_count": 27,
   "metadata": {},
   "outputs": [
    {
     "data": {
      "text/plain": [
       "['식품/의료', '지역', '노동', '언론', '환경', '교육', '사건사고']"
      ]
     },
     "execution_count": 27,
     "metadata": {},
     "output_type": "execute_result"
    }
   ],
   "source": [
    "categorys"
   ]
  },
  {
   "cell_type": "code",
   "execution_count": 49,
   "metadata": {},
   "outputs": [
    {
     "data": {
      "text/plain": [
       "['코로나',\n",
       " '위해',\n",
       " '지역',\n",
       " '수업',\n",
       " '지원',\n",
       " '온라인',\n",
       " '후보',\n",
       " '방송',\n",
       " '지난',\n",
       " '선거',\n",
       " '대한',\n",
       " '언론',\n",
       " '고용',\n",
       " '정부',\n",
       " '대해',\n",
       " '관련',\n",
       " '학생',\n",
       " '사업',\n",
       " '서울',\n",
       " '진행']"
      ]
     },
     "execution_count": 49,
     "metadata": {},
     "output_type": "execute_result"
    }
   ],
   "source": [
    "all_keyword_list = [keys for keys in list(all_keyword.keys()) if len(keys) > 1]\n",
    "all_keyword_list"
   ]
  },
  {
   "cell_type": "code",
   "execution_count": 50,
   "metadata": {},
   "outputs": [],
   "source": [
    "top_keywords = []\n",
    "i = -1\n",
    "for category in categorys:\n",
    "    i += 1\n",
    "    top_keyword_dict = {}\n",
    "    for k in all_keyword_list:\n",
    "        try:\n",
    "            top_keyword_dict[k] = keywords[i][k]\n",
    "        except:\n",
    "            top_keyword_dict[k] = 0\n",
    "    top_keywords.append(top_keyword_dict)"
   ]
  },
  {
   "cell_type": "code",
   "execution_count": 51,
   "metadata": {},
   "outputs": [],
   "source": [
    "categorys_dict = {}\n",
    "i = -1\n",
    "for category in categorys:\n",
    "    i += 1\n",
    "    categorys_dict[category] = list(top_keywords[i].values())"
   ]
  },
  {
   "cell_type": "code",
   "execution_count": 53,
   "metadata": {
    "scrolled": true
   },
   "outputs": [
    {
     "data": {
      "text/html": [
       "<div>\n",
       "<style scoped>\n",
       "    .dataframe tbody tr th:only-of-type {\n",
       "        vertical-align: middle;\n",
       "    }\n",
       "\n",
       "    .dataframe tbody tr th {\n",
       "        vertical-align: top;\n",
       "    }\n",
       "\n",
       "    .dataframe thead th {\n",
       "        text-align: right;\n",
       "    }\n",
       "</style>\n",
       "<table border=\"1\" class=\"dataframe\">\n",
       "  <thead>\n",
       "    <tr style=\"text-align: right;\">\n",
       "      <th></th>\n",
       "      <th>식품/의료</th>\n",
       "      <th>지역</th>\n",
       "      <th>노동</th>\n",
       "      <th>언론</th>\n",
       "      <th>환경</th>\n",
       "      <th>교육</th>\n",
       "      <th>사건사고</th>\n",
       "    </tr>\n",
       "  </thead>\n",
       "  <tbody>\n",
       "    <tr>\n",
       "      <th>코로나</th>\n",
       "      <td>817</td>\n",
       "      <td>302</td>\n",
       "      <td>665</td>\n",
       "      <td>907</td>\n",
       "      <td>274</td>\n",
       "      <td>299</td>\n",
       "      <td>242</td>\n",
       "    </tr>\n",
       "    <tr>\n",
       "      <th>위해</th>\n",
       "      <td>239</td>\n",
       "      <td>220</td>\n",
       "      <td>248</td>\n",
       "      <td>318</td>\n",
       "      <td>287</td>\n",
       "      <td>284</td>\n",
       "      <td>176</td>\n",
       "    </tr>\n",
       "    <tr>\n",
       "      <th>지역</th>\n",
       "      <td>310</td>\n",
       "      <td>343</td>\n",
       "      <td>214</td>\n",
       "      <td>155</td>\n",
       "      <td>431</td>\n",
       "      <td>104</td>\n",
       "      <td>115</td>\n",
       "    </tr>\n",
       "    <tr>\n",
       "      <th>수업</th>\n",
       "      <td>70</td>\n",
       "      <td>84</td>\n",
       "      <td>13</td>\n",
       "      <td>0</td>\n",
       "      <td>7</td>\n",
       "      <td>1483</td>\n",
       "      <td>10</td>\n",
       "    </tr>\n",
       "    <tr>\n",
       "      <th>지원</th>\n",
       "      <td>226</td>\n",
       "      <td>263</td>\n",
       "      <td>521</td>\n",
       "      <td>56</td>\n",
       "      <td>157</td>\n",
       "      <td>319</td>\n",
       "      <td>86</td>\n",
       "    </tr>\n",
       "    <tr>\n",
       "      <th>온라인</th>\n",
       "      <td>102</td>\n",
       "      <td>78</td>\n",
       "      <td>77</td>\n",
       "      <td>80</td>\n",
       "      <td>33</td>\n",
       "      <td>1182</td>\n",
       "      <td>27</td>\n",
       "    </tr>\n",
       "    <tr>\n",
       "      <th>후보</th>\n",
       "      <td>86</td>\n",
       "      <td>467</td>\n",
       "      <td>48</td>\n",
       "      <td>709</td>\n",
       "      <td>84</td>\n",
       "      <td>17</td>\n",
       "      <td>113</td>\n",
       "    </tr>\n",
       "    <tr>\n",
       "      <th>방송</th>\n",
       "      <td>32</td>\n",
       "      <td>23</td>\n",
       "      <td>16</td>\n",
       "      <td>1346</td>\n",
       "      <td>9</td>\n",
       "      <td>68</td>\n",
       "      <td>8</td>\n",
       "    </tr>\n",
       "    <tr>\n",
       "      <th>지난</th>\n",
       "      <td>206</td>\n",
       "      <td>159</td>\n",
       "      <td>142</td>\n",
       "      <td>400</td>\n",
       "      <td>125</td>\n",
       "      <td>126</td>\n",
       "      <td>301</td>\n",
       "    </tr>\n",
       "    <tr>\n",
       "      <th>선거</th>\n",
       "      <td>29</td>\n",
       "      <td>147</td>\n",
       "      <td>14</td>\n",
       "      <td>990</td>\n",
       "      <td>34</td>\n",
       "      <td>62</td>\n",
       "      <td>76</td>\n",
       "    </tr>\n",
       "    <tr>\n",
       "      <th>대한</th>\n",
       "      <td>173</td>\n",
       "      <td>96</td>\n",
       "      <td>116</td>\n",
       "      <td>425</td>\n",
       "      <td>120</td>\n",
       "      <td>162</td>\n",
       "      <td>248</td>\n",
       "    </tr>\n",
       "    <tr>\n",
       "      <th>언론</th>\n",
       "      <td>66</td>\n",
       "      <td>35</td>\n",
       "      <td>71</td>\n",
       "      <td>1036</td>\n",
       "      <td>22</td>\n",
       "      <td>52</td>\n",
       "      <td>47</td>\n",
       "    </tr>\n",
       "    <tr>\n",
       "      <th>고용</th>\n",
       "      <td>6</td>\n",
       "      <td>27</td>\n",
       "      <td>1192</td>\n",
       "      <td>0</td>\n",
       "      <td>10</td>\n",
       "      <td>45</td>\n",
       "      <td>0</td>\n",
       "    </tr>\n",
       "    <tr>\n",
       "      <th>정부</th>\n",
       "      <td>266</td>\n",
       "      <td>88</td>\n",
       "      <td>335</td>\n",
       "      <td>293</td>\n",
       "      <td>83</td>\n",
       "      <td>91</td>\n",
       "      <td>109</td>\n",
       "    </tr>\n",
       "    <tr>\n",
       "      <th>대해</th>\n",
       "      <td>178</td>\n",
       "      <td>73</td>\n",
       "      <td>135</td>\n",
       "      <td>437</td>\n",
       "      <td>82</td>\n",
       "      <td>92</td>\n",
       "      <td>245</td>\n",
       "    </tr>\n",
       "    <tr>\n",
       "      <th>관련</th>\n",
       "      <td>148</td>\n",
       "      <td>96</td>\n",
       "      <td>108</td>\n",
       "      <td>377</td>\n",
       "      <td>105</td>\n",
       "      <td>131</td>\n",
       "      <td>274</td>\n",
       "    </tr>\n",
       "    <tr>\n",
       "      <th>학생</th>\n",
       "      <td>62</td>\n",
       "      <td>55</td>\n",
       "      <td>20</td>\n",
       "      <td>61</td>\n",
       "      <td>14</td>\n",
       "      <td>978</td>\n",
       "      <td>21</td>\n",
       "    </tr>\n",
       "    <tr>\n",
       "      <th>사업</th>\n",
       "      <td>76</td>\n",
       "      <td>169</td>\n",
       "      <td>471</td>\n",
       "      <td>47</td>\n",
       "      <td>274</td>\n",
       "      <td>80</td>\n",
       "      <td>41</td>\n",
       "    </tr>\n",
       "    <tr>\n",
       "      <th>서울</th>\n",
       "      <td>139</td>\n",
       "      <td>101</td>\n",
       "      <td>161</td>\n",
       "      <td>144</td>\n",
       "      <td>173</td>\n",
       "      <td>219</td>\n",
       "      <td>220</td>\n",
       "    </tr>\n",
       "    <tr>\n",
       "      <th>진행</th>\n",
       "      <td>141</td>\n",
       "      <td>78</td>\n",
       "      <td>111</td>\n",
       "      <td>263</td>\n",
       "      <td>67</td>\n",
       "      <td>345</td>\n",
       "      <td>144</td>\n",
       "    </tr>\n",
       "  </tbody>\n",
       "</table>\n",
       "</div>"
      ],
      "text/plain": [
       "     식품/의료   지역    노동    언론   환경    교육  사건사고\n",
       "코로나    817  302   665   907  274   299   242\n",
       "위해     239  220   248   318  287   284   176\n",
       "지역     310  343   214   155  431   104   115\n",
       "수업      70   84    13     0    7  1483    10\n",
       "지원     226  263   521    56  157   319    86\n",
       "온라인    102   78    77    80   33  1182    27\n",
       "후보      86  467    48   709   84    17   113\n",
       "방송      32   23    16  1346    9    68     8\n",
       "지난     206  159   142   400  125   126   301\n",
       "선거      29  147    14   990   34    62    76\n",
       "대한     173   96   116   425  120   162   248\n",
       "언론      66   35    71  1036   22    52    47\n",
       "고용       6   27  1192     0   10    45     0\n",
       "정부     266   88   335   293   83    91   109\n",
       "대해     178   73   135   437   82    92   245\n",
       "관련     148   96   108   377  105   131   274\n",
       "학생      62   55    20    61   14   978    21\n",
       "사업      76  169   471    47  274    80    41\n",
       "서울     139  101   161   144  173   219   220\n",
       "진행     141   78   111   263   67   345   144"
      ]
     },
     "execution_count": 53,
     "metadata": {},
     "output_type": "execute_result"
    }
   ],
   "source": [
    "test_df = pd.DataFrame(categorys_dict)\n",
    "test_df.index = all_keyword_list\n",
    "test_df"
   ]
  },
  {
   "cell_type": "code",
   "execution_count": 38,
   "metadata": {},
   "outputs": [],
   "source": [
    "from matplotlib import pyplot"
   ]
  },
  {
   "cell_type": "code",
   "execution_count": 54,
   "metadata": {},
   "outputs": [
    {
     "data": {
      "text/plain": [
       "array([ 0,  1,  2,  3,  4,  5,  6,  7,  8,  9, 10, 11, 12, 13, 14, 15, 16,\n",
       "       17, 18, 19])"
      ]
     },
     "execution_count": 54,
     "metadata": {},
     "output_type": "execute_result"
    }
   ],
   "source": [
    "xpos = np.arange(len(test_df.index))\n",
    "xpos\n"
   ]
  },
  {
   "cell_type": "code",
   "execution_count": 55,
   "metadata": {
    "scrolled": true
   },
   "outputs": [
    {
     "data": {
      "text/plain": [
       "['코로나',\n",
       " '위해',\n",
       " '지역',\n",
       " '수업',\n",
       " '지원',\n",
       " '온라인',\n",
       " '후보',\n",
       " '방송',\n",
       " '지난',\n",
       " '선거',\n",
       " '대한',\n",
       " '언론',\n",
       " '고용',\n",
       " '정부',\n",
       " '대해',\n",
       " '관련',\n",
       " '학생',\n",
       " '사업',\n",
       " '서울',\n",
       " '진행']"
      ]
     },
     "execution_count": 55,
     "metadata": {},
     "output_type": "execute_result"
    }
   ],
   "source": [
    "xtext = list(test_df.index)\n",
    "xtext"
   ]
  },
  {
   "cell_type": "code",
   "execution_count": 60,
   "metadata": {},
   "outputs": [],
   "source": [
    "pyplot.rcParams[\"figure.figsize\"] = (20,6)"
   ]
  },
  {
   "cell_type": "code",
   "execution_count": 61,
   "metadata": {
    "scrolled": false
   },
   "outputs": [
    {
     "data": {
      "image/png": "[encoded data removed]",
      "text/plain": [
       "<Figure size 1440x432 with 1 Axes>"
      ]
     },
     "metadata": {
      "needs_background": "light"
     },
     "output_type": "display_data"
    }
   ],
   "source": [
    "test_df.plot.bar(rot=0, width=0.7)\n",
    "\n",
    "pyplot.grid()\n",
    "\n",
    "pyplot.legend(bbox_to_anchor=(1.13, 0.65))\n",
    "\n",
    "\n",
    "pyplot.ylabel('등장수')\n",
    "pyplot.title('카테고리 키워드 비교')\n",
    "\n",
    "pyplot.xticks(xpos, xtext) \n",
    "\n",
    "pyplot.show()"
   ]
  },
  {
   "cell_type": "markdown",
   "metadata": {},
   "source": [
    "https://blog.itpaper.co.kr/python-graph1-%EB%8B%A8%EC%9D%BC%EA%B7%B8%EB%9E%98%ED%94%84/"
   ]
  },
  {
   "cell_type": "code",
   "execution_count": null,
   "metadata": {},
   "outputs": [],
   "source": []
  },
  {
   "cell_type": "code",
   "execution_count": null,
   "metadata": {},
   "outputs": [],
   "source": []
  }
 ],
 "metadata": {
  "kernelspec": {
   "display_name": "Python 3",
   "language": "python",
   "name": "python3"
  },
  "language_info": {
   "codemirror_mode": {
    "name": "ipython",
    "version": 3
   },
   "file_extension": ".py",
   "mimetype": "text/x-python",
   "name": "python",
   "nbconvert_exporter": "python",
   "pygments_lexer": "ipython3",
   "version": "3.6.9"
  }
 },
 "nbformat": 4,
 "nbformat_minor": 4
}
